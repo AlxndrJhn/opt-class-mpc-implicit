{
 "cells": [
  {
   "cell_type": "markdown",
   "metadata": {},
   "source": [
    "# Simple unicycle model of a UAV #"
   ]
  },
  {
   "cell_type": "code",
   "execution_count": 135,
   "metadata": {
    "collapsed": false,
    "scrolled": true
   },
   "outputs": [],
   "source": [
    "%matplotlib inline\n",
    "import pdb\n",
    "import numpy as np\n",
    "import matplotlib\n",
    "import matplotlib.pyplot as plt\n",
    "\n",
    "def UAVmodel(state,u,dt):\n",
    "    # unpack the state vector\n",
    "    x = state[0]\n",
    "    y = state[1]\n",
    "    theta = state[2]\n",
    "\n",
    "    # unpack the input vectors\n",
    "    v = u[0]\n",
    "    w = u[1]\n",
    "\n",
    "    # compute deltas\n",
    "    dx = v*np.cos(theta)*dt\n",
    "    dy = v*np.sin(theta)*dt\n",
    "    dtheta = w*dt\n",
    "    \n",
    "    # new state\n",
    "    new_state = np.zeros(3)\n",
    "    new_state[0] = x + dx\n",
    "    new_state[1] = y + dy\n",
    "    new_state[2] = theta + dtheta\n",
    "    \n",
    "    # return the two state derivatives\n",
    "    return new_state\n",
    "\n",
    "def simpleUAVmodelTestandPlot():\n",
    "    n = 1000\n",
    "    state = np.zeros([3,n])\n",
    "    state[:,0] = [0.0, 0.0, 0.0]\n",
    "\n",
    "    for i in range(1,n):\n",
    "        state[:,i] = UAVmodel(state[:,i-1],[1,5],0.001)\n",
    "\n",
    "\n",
    "    plt.plot(state[0,:], state[1,:]);\n",
    "    plt.xlabel('x');\n",
    "    plt.ylabel('y');\n"
   ]
  },
  {
   "cell_type": "markdown",
   "metadata": {},
   "source": [
    "# The Vector-Field VF(x) #\n",
    "based on the implicit funtion $\\phi$ as taken from Goncalves2010a"
   ]
  },
  {
   "cell_type": "code",
   "execution_count": 136,
   "metadata": {
    "collapsed": false,
    "scrolled": true
   },
   "outputs": [],
   "source": [
    "import numpy as np\n",
    "\n",
    "def VF_G(y):\n",
    "    return -2/np.pi*np.arctan(10*y)\n",
    "def VF_phi(x):\n",
    "    return np.power(x[0],4)/16-2*np.power(x[0],2)*np.power(x[1],2)/5+np.power(x[1],4)-1\n",
    "def VF_phi_grad(x):\n",
    "    grad = np.zeros(2)\n",
    "    grad[0] = 1/4*np.power(x[0],3)-4/5*x[0]*np.power(x[1],2)\n",
    "    grad[1] = 4*np.power(x[1],3)-4/5*x[1]*np.power(x[0],2)\n",
    "    return grad\n",
    "def VF_alpha(x):\n",
    "    return VF_G(VF_phi(x))\n",
    "def VF_N(x):\n",
    "    return np.multiply(VF_alpha(x), VF_phi_grad(x))\n",
    "def VF_H(x):\n",
    "    return 1\n",
    "def VF_beta(x):\n",
    "    return VF_H(VF_phi(x))\n",
    "def VF_T(x):\n",
    "    phi_grad = VF_phi_grad(x)\n",
    "    return VF_beta(x) * [-phi_grad[1],phi_grad[0]]\n",
    "def VF(x):\n",
    "    return VF_N(x) + VF_T(x)\n",
    "\n",
    "#print(VF_phi([0,-1])==0)\n",
    "#print(VF_phi([-2,0])==0)\n",
    "#print(VF_phi_grad([0,-1]))\n",
    "#print(VF_phi_grad([-2,0]))\n",
    "#print(VF([0,-1])==[ 4.,  0.])\n",
    "#print(VF([-2,0])==[ 0., -2.])\n"
   ]
  },
  {
   "cell_type": "markdown",
   "metadata": {},
   "source": [
    "## Approximate Distance to Implicit Curve ##"
   ]
  },
  {
   "cell_type": "code",
   "execution_count": 137,
   "metadata": {
    "collapsed": false
   },
   "outputs": [
    {
     "name": "stdout",
     "output_type": "stream",
     "text": [
      "[ 0.   -1.05]\n"
     ]
    }
   ],
   "source": [
    "from numpy import linalg as LA\n",
    "from math import atan2\n",
    "import numpy as np\n",
    "\n",
    "def approxPointOnImplicitCurve(x,f,df,tangent_function):\n",
    "    #TODO: Maybe use approximation from Taubin1994 instead of numerical approach\n",
    "    eps = 0.1 # tuning parameter\n",
    "    step = 0.05 # tuning parameter\n",
    "    \n",
    "    # Offset, to make sure the UAV rotates in the intended direction\n",
    "    scaling_tangent = 0.1 # tuning parameter\n",
    "    \n",
    "    # Gradient descent, better would be Newton or quasi Newton \n",
    "    x_temp = x\n",
    "    i = 0\n",
    "    while np.power(f(x_temp),2)>eps and i<100:\n",
    "        grad = df(x_temp)\n",
    "        grad /= LA.norm(grad)\n",
    "        x_temp = x_temp - grad*step\n",
    "        i = i + 1\n",
    "        #if i>100:\n",
    "        #    pdb.set_trace()\n",
    "    #print(i)\n",
    "    #tangent_on_curve = np.array(tangent_function(x_temp))\n",
    "    #tangent_on_curve /= LA.norm(tangent_on_curve)\n",
    "    \n",
    "    x_on_curve = x_temp #+ tangent_on_curve*scaling_tangent # TODO should be '+' for normal behavior\n",
    "    \n",
    "    return x_on_curve\n",
    "#print(approxDist(np.array([0,-1]),VF_phi,VF_phi_grad)==0)\n",
    "print(approxPointOnImplicitCurve(np.array([0,-1.5]),VF_phi,VF_phi_grad,VF_T))\n",
    "#print(approxDist(np.array([-2,0]),VF_phi,VF_phi_grad)==0)\n",
    "\n",
    "def angleOfTangent(x,tangent_function):\n",
    "    tangent_on_curve = np.array(tangent_function(x))\n",
    "    return atan2(tangent_on_curve[1],tangent_on_curve[0])\n",
    "#print(angleOfTangent(np.array([0,-1]),VF_T))\n",
    "#print(angleOfTangent(np.array([-2,0]),VF_T))\n"
   ]
  },
  {
   "cell_type": "markdown",
   "metadata": {},
   "source": [
    "# Cost Function and Constraints #"
   ]
  },
  {
   "cell_type": "code",
   "execution_count": 138,
   "metadata": {
    "collapsed": false
   },
   "outputs": [],
   "source": [
    "from numpy import linalg as LA\n",
    "import numpy as np\n",
    "\n",
    "\n",
    "def J(xk,H_p,H_c,V,W,q,weights,t_step,int_t_step,angle_error_weight):\n",
    "    if len(V)!=H_c or len(W)!=H_c:\n",
    "        raise ValueError('Number of Inputs of U is not equivalent to control horizon H_c')\n",
    "    \n",
    "    # simulate H_p steps beginning at the current measurement xk\n",
    "    x=tuple()\n",
    "    x = x + (xk,)\n",
    "    for l in np.arange(0,H_p):\n",
    "        #pdb.set_trace()\n",
    "        x_temp = x[l]\n",
    "        for i in np.arange(0,t_step,int_t_step):\n",
    "            if l<H_c:\n",
    "                x_temp = UAVmodel(x_temp,[V[l],W[l]],int_t_step)\n",
    "            else:\n",
    "                x_temp = UAVmodel(x_temp,[V[-1],W[-1]],int_t_step)\n",
    "        x = x + (x_temp,)\n",
    "    \n",
    "    # Calculate Weighted State Errors\n",
    "    errors = np.zeros(H_p)\n",
    "    #print('state error')\n",
    "    for i in np.arange(0,H_p):\n",
    "        pos = x[i][0:2]\n",
    "        theta = x[i][-1]\n",
    "        curve_pos = approxPointOnImplicitCurve(pos,VF_phi,VF_phi_grad,VF_T)\n",
    "        curve_theta = angleOfTangent(curve_pos,VF_T)\n",
    "        theta_diff = atan2(np.sin(theta-curve_theta), np.cos(theta-curve_theta))*angle_error_weight\n",
    "        errors[i] = LA.norm(np.hstack([pos-curve_pos,theta_diff]))\n",
    "        #errors[i] = LA.norm(pos-curve_pos)\n",
    "        #print(errors[i])\n",
    "    Q = np.eye(H_p)*q\n",
    "    sumOfStateErrors = np.dot(np.dot(errors,Q),errors)\n",
    "        \n",
    "    # Weighted Input Term\n",
    "    sumOfWeightedInputs = np.dot(np.absolute(W),weights)\n",
    "    #print('input punishment')\n",
    "    #print(sumOfWeightedInputs)\n",
    "\n",
    "    return sumOfStateErrors + sumOfWeightedInputs\n",
    "\n",
    "def generateBounds(H_c,b_l,b_u):\n",
    "    bnds = tuple()\n",
    "    for i in range(0,H_c):\n",
    "        bnds = ((b_l, b_u),) + bnds\n",
    "    return bnds\n"
   ]
  },
  {
   "cell_type": "markdown",
   "metadata": {},
   "source": [
    "# Visualization #"
   ]
  },
  {
   "cell_type": "code",
   "execution_count": 139,
   "metadata": {
    "collapsed": false
   },
   "outputs": [],
   "source": [
    "%matplotlib inline\n",
    "import numpy as np\n",
    "import matplotlib\n",
    "import matplotlib.pyplot as plt\n",
    "\n",
    "def plotTraj(xk,Model,V,W,t_step,int_t_step):\n",
    "    # simulate H_p steps beginning at the current measurement xk\n",
    "    x=tuple()\n",
    "    x = x + (xk,)\n",
    "    for l in np.arange(0,len(V)):\n",
    "        #pdb.set_trace()\n",
    "        x_temp = x[l]\n",
    "        for i in np.arange(0,t_step,int_t_step):\n",
    "            x_temp = Model(x_temp,[V[l],W[l]],int_t_step)\n",
    "        x = x + (x_temp,)\n",
    "    #pdb.set_trace()\n",
    "    x_all = np.vstack(x)\n",
    "    plt.plot(x_all[:,0],x_all[:,1]);\n",
    "    plt.xlabel('x');\n",
    "    plt.ylabel('y');\n",
    "\n",
    "def plotTrajCost(xk,Model,V,W,t_step,int_t_step,weights,q):\n",
    "    # simulate H_p steps beginning at the current measurement xk\n",
    "    x=tuple()\n",
    "    x = x + (xk,)\n",
    "    N = len(V)\n",
    "    errors = np.zeros(N)\n",
    "    inputs = np.zeros(N)\n",
    "    for l in np.arange(0,len(V)):\n",
    "        #pdb.set_trace()\n",
    "        x_temp = x[l]\n",
    "        for i in np.arange(0,t_step,int_t_step):\n",
    "            x_temp = Model(x_temp,[V[l],W[l]],int_t_step)\n",
    "        x = x + (x_temp,)\n",
    "        pos = x_temp[0:2]\n",
    "        theta = x_temp[-1]\n",
    "        curve_pos = approxPointOnImplicitCurve(pos,VF_phi,VF_phi_grad,VF_T)\n",
    "        curve_theta = angleOfTangent(curve_pos,VF_T)\n",
    "        theta_diff = atan2(np.sin(theta-curve_theta), np.cos(theta-curve_theta))\n",
    "        errors[l] = np.power(LA.norm(np.hstack([pos-curve_pos,theta_diff])),2)*q\n",
    "        inputs[l] = np.absolute(W[l])*weights[l]\n",
    "    #pdb.set_trace()\n",
    "    plt.plot(range(0,N),errors,label='state error')\n",
    "    plt.plot(range(0,N),inputs,label='weighted input')\n",
    "    plt.plot(range(0,N),errors+inputs,label='sum')\n",
    "    \n",
    "    plt.xlabel('inputs');\n",
    "    plt.ylabel('error');\n",
    "    #plt.legend()\n",
    "    #plt.show()\n",
    "    \n",
    "def plotImplCurve(implfun,xmin,xmax,ymin,ymax,eps,N):\n",
    "    #N = 100\n",
    "    #eps = 2e-3\n",
    "    x = np.linspace(xmin, xmax, N)\n",
    "    y = np.linspace(ymin, ymax, N)\n",
    "\n",
    "    X, Y = np.meshgrid(x, y)\n",
    "    Z = np.zeros([N,N])\n",
    "    for i in range(0,N):\n",
    "        for j in range(0,N):\n",
    "            if np.power(implfun([X[i,j],Y[i,j]]),2)<=eps:\n",
    "                #print(implfun([X[i,j],Y[i,j]]))\n",
    "                plt.plot(X[i,j],Y[i,j],'o',color='blue')\n",
    "    #plt.show()\n"
   ]
  },
  {
   "cell_type": "markdown",
   "metadata": {},
   "source": [
    "# MPC Control #"
   ]
  },
  {
   "cell_type": "code",
   "execution_count": 141,
   "metadata": {
    "collapsed": false,
    "scrolled": false
   },
   "outputs": [
    {
     "name": "stdout",
     "output_type": "stream",
     "text": [
      " success: True\n",
      " message: 'Optimization terminated successfully.'\n",
      "    nfev: 149\n",
      "     fun: 301.86418094345282\n",
      "   maxcv: 0.0\n",
      "  status: 1\n",
      "       x: array([-0.48803253, -0.4765174 , -0.42820116, -0.22649036, -0.02678218,\n",
      "       -0.00717694, -0.27210409, -0.04547215,  0.05064173, -0.83629272])\n"
     ]
    },
    {
     "data": {
      "image/png": "[encoded data removed]",
      "text/plain": [
       "<matplotlib.figure.Figure at 0xab64fc6c>"
      ]
     },
     "metadata": {},
     "output_type": "display_data"
    }
   ],
   "source": [
    "from scipy.optimize import minimize\n",
    "from scipy.optimize import brute\n",
    "import matplotlib.pyplot as plt\n",
    "\n",
    "# related to plots\n",
    "from pylab import rcParams\n",
    "rcParams['figure.figsize'] = 10, 10\n",
    "#from matplotlib.font_manager import FontProperties\n",
    "\n",
    "\n",
    "# Constants\n",
    "H_p = 20\n",
    "H_c = 10\n",
    "H_t_step = 0.1 # the time of the piece-wise constant inputs\n",
    "int_t_step = 0.001 # the small time-steps of the integration, the lower the better\n",
    "b_l = -2 # lower bound of the angular velocity vector\n",
    "b_u =  2 # upper bound of the angular velocity vector\n",
    "Q = 10 # Tuning parameter: scaling for the state error\n",
    "weights = np.ones(H_c)*1 # Tuning parameter: weight of the input signal, the higher , the less signal is applied\n",
    "xk = tuple(np.array([0,-3.0,np.pi/2]))# initial point: below curve and straight up np.pi/2 0\n",
    "angle_error_weight = 0.3    # Tuning parameter: Scaling of the angle-error [-pi/2,pi/2], \n",
    "                            # the higher, the more the MPC converges to the shape of the curve\n",
    "\n",
    "# initial guess\n",
    "V = np.ones(H_c) # fixed at 1 unit/sec\n",
    "W = np.ones(H_c)*0\n",
    "\n",
    "# Constraint Functions \n",
    "bnds = generateBounds(H_c,b_l,b_u)\n",
    "\n",
    "objfun = lambda W: J(xk,H_p,H_c,V,W,Q,weights,H_t_step,int_t_step,angle_error_weight)\n",
    "#objfun(W)\n",
    "#res = minimize(objfun, W, method='COBYLA',bounds=bnds,options={'maxiter':1000})\n",
    "res = minimize(objfun, W, method='COBYLA',options={'maxiter':1000})\n",
    "#SLSQP L-BFGS-B TNC COBYLA\n",
    "#resbrute = brute(objfun, bnds, Ns=5, full_output=False, disp=True)#Ns=20,\n",
    "\n",
    "#pdb.set_trace()\n",
    "print(res)\n",
    "\n",
    "axarr = plt.subplot(2, 1, 1)\n",
    "axarr.set_title('Implicit Curve and Trajectory')\n",
    "plotImplCurve(VF_phi,-3,3,-3,3,2e-3,100)\n",
    "\n",
    "# Extend the Input Vectors if H_c<H_p\n",
    "V_total = np.zeros(H_p)\n",
    "W_total = np.zeros(H_p)\n",
    "weights_total = np.zeros(H_p)\n",
    "for i in range(0,H_p):\n",
    "    if i>=H_c:\n",
    "        V_total[i] = V[-1]\n",
    "        W_total[i] = res.x[-1]\n",
    "        weights_total[i] = 0\n",
    "    else:\n",
    "        V_total[i] = V[i]\n",
    "        W_total[i] = res.x[i]\n",
    "        weights_total[i] = weights[i]\n",
    "    \n",
    "plotTraj(xk,UAVmodel,V_total,W_total,H_t_step,int_t_step)\n",
    "    \n",
    "\n",
    "axarr = plt.subplot(2, 1, 2)\n",
    "axarr.set_title('Cost Function along the simulated Trajectory')\n",
    "\n",
    "plotTrajCost(xk,UAVmodel,V_total,W_total,H_t_step,int_t_step,weights_total,Q)\n",
    "#plt.legend()\n",
    "axarr.legend(loc='upper right', #bbox_to_anchor=(1.5, .45),\n",
    "           fancybox=True, shadow=True)\n",
    "plt.show()"
   ]
  },
  {
   "cell_type": "markdown",
   "metadata": {
    "collapsed": true
   },
   "source": [
    "# Future Work #\n",
    "* Use approximation of the distance- and angle-estimation for the implicit curve\n",
    "* Iterative deepening of H_p (H_p=1 -> initial guess for H_p=2 -> ...)"
   ]
  },
  {
   "cell_type": "code",
   "execution_count": null,
   "metadata": {
    "collapsed": true
   },
   "outputs": [],
   "source": []
  }
 ],
 "metadata": {
  "kernelspec": {
   "display_name": "Python 3",
   "language": "python",
   "name": "python3"
  },
  "language_info": {
   "codemirror_mode": {
    "name": "ipython",
    "version": 3
   },
   "file_extension": ".py",
   "mimetype": "text/x-python",
   "name": "python",
   "nbconvert_exporter": "python",
   "pygments_lexer": "ipython3",
   "version": "3.5.0"
  }
 },
 "nbformat": 4,
 "nbformat_minor": 0
}
